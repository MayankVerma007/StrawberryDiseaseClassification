{
 "cells": [
  {
   "cell_type": "code",
   "execution_count": 12,
   "metadata": {},
   "outputs": [],
   "source": [
    "#last run 02/05/2024 0541\n",
    "import torch\n",
    "import torch.nn as nn\n",
    "import torch.optim as optim\n",
    "from torch.utils.data import DataLoader, TensorDataset, random_split\n",
    "from torchvision import transforms, datasets\n",
    "from torchsummary import summary\n",
    "import numpy as np\n",
    "from tqdm import tqdm\n",
    "import matplotlib.pyplot as plt"
   ]
  },
  {
   "cell_type": "code",
   "execution_count": 13,
   "metadata": {},
   "outputs": [],
   "source": [
    "import os"
   ]
  },
  {
   "cell_type": "code",
   "execution_count": 14,
   "metadata": {},
   "outputs": [],
   "source": [
    "if __name__ == \"__main__\":\n",
    "    files = os.path.join(\"yout file name\")"
   ]
  },
  {
   "cell_type": "code",
   "execution_count": 15,
   "metadata": {},
   "outputs": [],
   "source": [
    "#Defining the transformations to apply on our dataset\n",
    "transformations = transforms.Compose([\n",
    "    transforms.Resize((64,64)),\n",
    "    transforms.ToTensor(),\n",
    "])"
   ]
  },
  {
   "cell_type": "code",
   "execution_count": 16,
   "metadata": {},
   "outputs": [],
   "source": [
    "# Load your dataset\n",
    "if __name__ == \"__main__\":\n",
    "    dataset = datasets.ImageFolder(root='your file name', transform=transformations)"
   ]
  },
  {
   "cell_type": "code",
   "execution_count": 17,
   "metadata": {},
   "outputs": [],
   "source": [
    "# Define the sizes of your splits\n",
    "if __name__ == \"__main__\":\n",
    "    train_size = int(0.8 * len(dataset))\n",
    "    test_size = len(dataset) - train_size"
   ]
  },
  {
   "cell_type": "code",
   "execution_count": 18,
   "metadata": {},
   "outputs": [],
   "source": [
    "# Randomly split the dataset into train and test\n",
    "if __name__ == \"__main__\":\n",
    "    train_dataset, test_dataset = random_split(dataset, [train_size, test_size])"
   ]
  },
  {
   "cell_type": "code",
   "execution_count": 19,
   "metadata": {},
   "outputs": [],
   "source": [
    "# Create DataLoaders for your train and test datasets\n",
    "if __name__ == \"__main__\":\n",
    "    train_loader = DataLoader(train_dataset, batch_size=32, shuffle=True)\n",
    "    test_loader = DataLoader(test_dataset, batch_size=32, shuffle=True)"
   ]
  },
  {
   "cell_type": "code",
   "execution_count": 20,
   "metadata": {},
   "outputs": [],
   "source": [
    "class SimpleCNN(nn.Module):\n",
    "    def __init__(self, in_channels):\n",
    "        super(SimpleCNN, self).__init__()\n",
    "        # Define layers\n",
    "        self.conv1 = nn.Conv2d(in_channels=in_channels, out_channels=32, kernel_size=3, stride=1, padding=0)\n",
    "        self.relu1 = nn.ReLU()\n",
    "        self.pool1 = nn.MaxPool2d(kernel_size=2, stride=1)\n",
    "        self.conv2 = nn.Conv2d(in_channels=32, out_channels=32, kernel_size=3, stride=1, padding=0)\n",
    "        self.relu2 = nn.ReLU()\n",
    "        self.pool2 = nn.MaxPool2d(kernel_size=2, stride=1)\n",
    "\n",
    "    def forward(self, x):\n",
    "        x = self.conv1(x)\n",
    "        x = self.relu1(x)\n",
    "        x = self.pool1(x)\n",
    "        x = self.conv2(x)\n",
    "        x = self.relu2(x)\n",
    "        x = self.pool2(x)\n",
    "        return x\n",
    "\n",
    "# Define DeepConcat layer\n",
    "class DeepConcat(nn.Module):\n",
    "    def __init__(self):\n",
    "        super(DeepConcat, self).__init__()\n",
    "\n",
    "    def forward(self, inputs):\n",
    "        return torch.cat(inputs, dim=1)\n",
    "\n",
    "# Define the architecture with three \"hands\"\n",
    "class ThreeHandsArchitecture(nn.Module):\n",
    "    def __init__(self, num_classes=7):\n",
    "        super(ThreeHandsArchitecture, self).__init__()\n",
    "        self.hand1 = SimpleCNN(in_channels=3)\n",
    "        self.hand2 = nn.Sequential(\n",
    "            SimpleCNN(in_channels=3),  # Adjusted in_channels based on the output of the first core structure\n",
    "            SimpleCNN(in_channels=32)   # Adjusted in_channels based on the output of the second core structure\n",
    "        )\n",
    "        self.hand3 = nn.Sequential(\n",
    "            SimpleCNN(in_channels=3), \n",
    "            SimpleCNN(in_channels=32),  # Adjusted in_channels based on the output of the first core structure\n",
    "            SimpleCNN(in_channels=32)   # Adjusted in_channels based on the output of the second core structure\n",
    "        )\n",
    "        self.deep_concat = DeepConcat()\n",
    "        self.flatten = nn.Flatten()\n",
    "        self.fc = nn.Linear(58*58*32*3, num_classes)\n",
    "        self.softmax = nn.Softmax(dim=1)\n",
    "\n",
    "    def forward(self, x):\n",
    "        hand1_output = self.hand1(x)\n",
    "        hand2_output_1 = self.hand2[0](x)\n",
    "        hand2_output_2 = self.hand2[1](hand2_output_1)\n",
    "        hand3_output_1 = self.hand3[0](x)\n",
    "        hand3_output_2 = self.hand3[1](hand3_output_1)\n",
    "        hand3_output_3 = self.hand3[2](hand3_output_2)\n",
    "        \n",
    "        # Resize outputs to a common size (assuming hand1_output is the reference size)\n",
    "        common_size = (hand1_output.size()[2], hand1_output.size()[3])\n",
    "        hand1_output = nn.functional.interpolate(hand3_output_1, size=common_size)\n",
    "        hand2_output_2 = nn.functional.interpolate(hand3_output_2, size=common_size)\n",
    "        hand3_output_3 = nn.functional.interpolate(hand3_output_3, size=common_size)\n",
    "        \n",
    "        concatenated_output = self.deep_concat([hand1_output, hand2_output_2, hand3_output_3])\n",
    "        flattened_output = self.flatten(concatenated_output)\n",
    "        output = self.fc(flattened_output)\n",
    "        output = self.softmax(output)\n",
    "        return output"
   ]
  },
  {
   "cell_type": "code",
   "execution_count": 65,
   "metadata": {},
   "outputs": [],
   "source": [
    "if __name__ == \"__main__\":\n",
    "    model = ThreeHandsArchitecture()"
   ]
  },
  {
   "cell_type": "code",
   "execution_count": 84,
   "metadata": {},
   "outputs": [],
   "source": [
    "#Defing the hyperparameters\n",
    "num_epochs = 20\n",
    "learning_rate = 0.005"
   ]
  },
  {
   "cell_type": "code",
   "execution_count": 85,
   "metadata": {},
   "outputs": [],
   "source": [
    "# Define loss function and optimizer\n",
    "if __name__ == \"__main__\":\n",
    "    criterion = nn.CrossEntropyLoss()\n",
    "    optimizer = optim.SGD(model.parameters(), lr=learning_rate,weight_decay=0.0001)"
   ]
  },
  {
   "cell_type": "code",
   "execution_count": null,
   "metadata": {},
   "outputs": [],
   "source": [
    "# Training loop\n",
    "if __name__ == \"__main__\":\n",
    "    loss_values = []\n",
    "    for epoch in range(num_epochs):\n",
    "        model.train()\n",
    "        running_loss = 0.0\n",
    "        loop = tqdm(train_loader, leave=True, desc=f\"Epoch {epoch+1}/{num_epochs}\")\n",
    "        iterations = 0\n",
    "        acc_loss = 0\n",
    "        for inputs, labels in loop:\n",
    "            inputs, labels = inputs, labels\n",
    "            optimizer.zero_grad()\n",
    "            outputs = model(inputs)\n",
    "            loss = criterion(outputs, labels)\n",
    "            loss.backward()\n",
    "            optimizer.step()\n",
    "            iterations += 1\n",
    "            acc_loss += loss.item()\n",
    "            loop.set_postfix(loss=loss.item())\n",
    "        loss_value = acc_loss/iterations\n",
    "        loss_values.append(loss_value)\n",
    "        print(f'\\nEpoch [{epoch+1}/{num_epochs}], Loss: {loss_value:.4f}')"
   ]
  },
  {
   "cell_type": "code",
   "execution_count": null,
   "metadata": {},
   "outputs": [],
   "source": [
    "# Plotting the loss values\n",
    "if __name__ == \"__main__\":\n",
    "    plt.plot(loss_values, label='Training Loss')\n",
    "    plt.title('Loss Function vs. Iteration')\n",
    "    plt.xlabel('Iteration')\n",
    "    plt.ylabel('Loss')\n",
    "    plt.legend()\n",
    "    plt.show()"
   ]
  },
  {
   "cell_type": "code",
   "execution_count": null,
   "metadata": {},
   "outputs": [],
   "source": [
    "# Testing our model\n",
    "if __name__ == \"__main__\":\n",
    "    model.eval()\n",
    "    correct = 0\n",
    "    total = 0\n",
    "\n",
    "    with torch.no_grad():\n",
    "        loop = tqdm(train_loader, leave=True, desc=f\"Epoch {epoch+1}/{num_epochs}\")\n",
    "        # for inputs, labels in test_loader:\n",
    "        for inputs, labels in loop:\n",
    "            inputs, labels = inputs, labels\n",
    "            outputs = model(inputs)\n",
    "            _, predicted = torch.max(outputs, 1)\n",
    "            total += labels.size(0)\n",
    "            correct += (predicted == labels).sum().item()\n",
    "            loop.set_postfix()\n",
    "    accuracy = correct / total\n"
   ]
  },
  {
   "cell_type": "code",
   "execution_count": null,
   "metadata": {},
   "outputs": [],
   "source": [
    "if __name__ == \"__main__\":\n",
    "    print(f'\\nTrain Accuracy: {accuracy * 100:.2f}%')"
   ]
  },
  {
   "cell_type": "code",
   "execution_count": null,
   "metadata": {},
   "outputs": [],
   "source": [
    "# Testing our model\n",
    "if __name__ == \"__main__\":\n",
    "    model.eval()\n",
    "    correct = 0\n",
    "    total = 0\n",
    "\n",
    "    with torch.no_grad():\n",
    "        loop = tqdm(test_loader, leave=True, desc=f\"Epoch {epoch+1}/{num_epochs}\")\n",
    "        # for inputs, labels in test_loader:\n",
    "        for inputs, labels in loop:\n",
    "            inputs, labels = inputs, labels\n",
    "            outputs = model(inputs)\n",
    "            _, predicted = torch.max(outputs, 1)\n",
    "            total += labels.size(0)\n",
    "            correct += (predicted == labels).sum().item()\n",
    "            loop.set_postfix()\n",
    "    accuracy = correct / total\n"
   ]
  },
  {
   "cell_type": "code",
   "execution_count": null,
   "metadata": {},
   "outputs": [],
   "source": [
    "if __name__ == \"__main__\":\n",
    "    print(f'\\nTest Accuracy: {accuracy * 100:.2f}%')"
   ]
  },
  {
   "cell_type": "code",
   "execution_count": 95,
   "metadata": {},
   "outputs": [],
   "source": [
    "#torch.save(model.state_dict(), 'your_folder_location/three_hands_model.pth')"
   ]
  }
 ],
 "metadata": {
  "kernelspec": {
   "display_name": "Python 3",
   "language": "python",
   "name": "python3"
  },
  "language_info": {
   "codemirror_mode": {
    "name": "ipython",
    "version": 3
   },
   "file_extension": ".py",
   "mimetype": "text/x-python",
   "name": "python",
   "nbconvert_exporter": "python",
   "pygments_lexer": "ipython3",
   "version": "3.11.3"
  }
 },
 "nbformat": 4,
 "nbformat_minor": 2
}
