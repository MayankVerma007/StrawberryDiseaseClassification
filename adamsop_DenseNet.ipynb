{
 "cells": [
  {
   "cell_type": "code",
   "execution_count": 26,
   "metadata": {},
   "outputs": [],
   "source": [
    "#last run 02/05/2024 0541\n",
    "import torch\n",
    "import torch.nn as nn\n",
    "import torch.optim as optim\n",
    "from torch.utils.data import DataLoader, TensorDataset, random_split\n",
    "from torchvision import transforms, datasets\n",
    "from torchsummary import summary\n",
    "import numpy as np\n",
    "from tqdm import tqdm\n",
    "import matplotlib.pyplot as plt"
   ]
  },
  {
   "cell_type": "code",
   "execution_count": 27,
   "metadata": {},
   "outputs": [],
   "source": [
    "import os"
   ]
  },
  {
   "cell_type": "code",
   "execution_count": 28,
   "metadata": {},
   "outputs": [],
   "source": [
    "files = os.path.join(\"your file name\")"
   ]
  },
  {
   "cell_type": "code",
   "execution_count": 29,
   "metadata": {},
   "outputs": [],
   "source": [
    "#Defining the transformations to apply on our dataset\n",
    "transformations = transforms.Compose([\n",
    "    transforms.Resize((64,64)),\n",
    "    transforms.ToTensor(),\n",
    "])"
   ]
  },
  {
   "cell_type": "code",
   "execution_count": 30,
   "metadata": {},
   "outputs": [],
   "source": [
    "# Load your dataset\n",
    "if __name__ == \"__main__\":\n",
    "    dataset = datasets.ImageFolder(root='your file name', transform=transformations)"
   ]
  },
  {
   "cell_type": "code",
   "execution_count": 31,
   "metadata": {},
   "outputs": [],
   "source": [
    "# Define the sizes of your splits\n",
    "if __name__ == \"__main__\":\n",
    "    train_size = int(0.8 * len(dataset))\n",
    "    test_size = len(dataset) - train_size"
   ]
  },
  {
   "cell_type": "code",
   "execution_count": 32,
   "metadata": {},
   "outputs": [],
   "source": [
    "# Randomly split the dataset into train and test\n",
    "if __name__ == \"__main__\":\n",
    "    train_dataset, test_dataset = random_split(dataset, [train_size, test_size])"
   ]
  },
  {
   "cell_type": "code",
   "execution_count": 33,
   "metadata": {},
   "outputs": [],
   "source": [
    "# Create DataLoaders for your train and test datasets\n",
    "if __name__ == \"__main__\":\n",
    "    train_loader = DataLoader(train_dataset, batch_size=32, shuffle=True)\n",
    "    test_loader = DataLoader(test_dataset, batch_size=32, shuffle=True)"
   ]
  },
  {
   "cell_type": "code",
   "execution_count": null,
   "metadata": {},
   "outputs": [],
   "source": [
    "class DenseNetModel(nn.Module):\n",
    "    def __init__(self, num_classes=7):\n",
    "        super(DenseNetModel, self).__init__()\n",
    "        # Load a pre-trained DenseNet model\n",
    "        self.densenet = models.densenet121(pretrained=True)\n",
    "        # Replace the classifier layer with a new one for num_classes\n",
    "        num_features = self.densenet.classifier.in_features\n",
    "        self.densenet.classifier = nn.Linear(num_features, num_classes)\n",
    "\n",
    "    def forward(self, x):\n",
    "        return self.densenet(x)\n",
    "\n",
    "# Use the DenseNetModel\n",
    "if __name__ == \"__main__\":\n",
    "    model = DenseNetModel(num_classes=7)\n"
   ]
  },
  {
   "cell_type": "code",
   "execution_count": 37,
   "metadata": {},
   "outputs": [],
   "source": [
    "#Defing the hyperparameters\n",
    "num_epochs = 10\n",
    "learning_rate = 0.01"
   ]
  },
  {
   "cell_type": "code",
   "execution_count": 38,
   "metadata": {},
   "outputs": [],
   "source": [
    "# Define loss function and optimizer\n",
    "if __name__ == \"__main__\":\n",
    "    criterion = nn.CrossEntropyLoss()\n",
    "    optimizer = optim.SGD(model.parameters(), lr=learning_rate,weight_decay=0.0001)"
   ]
  },
  {
   "cell_type": "code",
   "execution_count": null,
   "metadata": {},
   "outputs": [],
   "source": [
    "# Training loop\n",
    "if __name__ == \"__main__\":\n",
    "    loss_values = []\n",
    "    for epoch in range(num_epochs):\n",
    "        model.train()\n",
    "        running_loss = 0.0\n",
    "        loop = tqdm(train_loader, leave=True, desc=f\"Epoch {epoch+1}/{num_epochs}\")\n",
    "        iterations = 0\n",
    "        acc_loss = 0\n",
    "        for inputs, labels in loop:\n",
    "            inputs, labels = inputs, labels\n",
    "            optimizer.zero_grad()\n",
    "            outputs = model(inputs)\n",
    "            loss = criterion(outputs, labels)\n",
    "            loss.backward()\n",
    "            optimizer.step()\n",
    "            iterations += 1\n",
    "            acc_loss += loss.item()\n",
    "            loop.set_postfix(loss=loss.item())\n",
    "        loss_value = acc_loss/iterations\n",
    "        loss_values.append(loss_value)\n",
    "        print(f'\\nEpoch [{epoch+1}/{num_epochs}], Loss: {loss_value:.4f}')"
   ]
  },
  {
   "cell_type": "code",
   "execution_count": null,
   "metadata": {},
   "outputs": [],
   "source": [
    "# Plotting the loss values\n",
    "if __name__ == \"__main__\":\n",
    "    plt.plot(loss_values, label='Training Loss')\n",
    "    plt.title('Loss Function vs. Iteration')\n",
    "    plt.xlabel('Iteration')\n",
    "    plt.ylabel('Loss')\n",
    "    plt.legend()\n",
    "    plt.show()"
   ]
  },
  {
   "cell_type": "code",
   "execution_count": null,
   "metadata": {},
   "outputs": [],
   "source": [
    "# Testing our model\n",
    "if __name__ == \"__main__\":\n",
    "    model.eval()\n",
    "    correct = 0\n",
    "    total = 0\n",
    "\n",
    "    with torch.no_grad():\n",
    "        loop = tqdm(train_loader, leave=True, desc=f\"Epoch {epoch+1}/{num_epochs}\")\n",
    "        # for inputs, labels in test_loader:\n",
    "        for inputs, labels in loop:\n",
    "            inputs, labels = inputs, labels\n",
    "            outputs = model(inputs)\n",
    "            _, predicted = torch.max(outputs, 1)\n",
    "            total += labels.size(0)\n",
    "            correct += (predicted == labels).sum().item()\n",
    "            loop.set_postfix()\n",
    "    accuracy = correct / total\n",
    "    print(f'\\nTrain Accuracy: {accuracy * 100:.2f}%')\n"
   ]
  },
  {
   "cell_type": "code",
   "execution_count": null,
   "metadata": {},
   "outputs": [],
   "source": [
    "# Testing our model\n",
    "if __name__ == \"__main__\":\n",
    "    model.eval()\n",
    "    correct = 0\n",
    "    total = 0\n",
    "\n",
    "    with torch.no_grad():\n",
    "        loop = tqdm(test_loader, leave=True, desc=f\"Epoch {epoch+1}/{num_epochs}\")\n",
    "        # for inputs, labels in test_loader:\n",
    "        for inputs, labels in loop:\n",
    "            inputs, labels = inputs, labels\n",
    "            outputs = model(inputs)\n",
    "            _, predicted = torch.max(outputs, 1)\n",
    "            total += labels.size(0)\n",
    "            correct += (predicted == labels).sum().item()\n",
    "            loop.set_postfix()\n",
    "    accuracy = correct / total\n",
    "\n",
    "    print(f'\\nTest Accuracy: {accuracy * 100:.2f}%')"
   ]
  },
  {
   "cell_type": "code",
   "execution_count": 51,
   "metadata": {},
   "outputs": [],
   "source": [
    "#torch.save(model.state_dict(), 'your_folder_location/Densenet_model.pth')"
   ]
  }
 ],
 "metadata": {
  "kernelspec": {
   "display_name": "Python 3",
   "language": "python",
   "name": "python3"
  },
  "language_info": {
   "codemirror_mode": {
    "name": "ipython",
    "version": 3
   },
   "file_extension": ".py",
   "mimetype": "text/x-python",
   "name": "python",
   "nbconvert_exporter": "python",
   "pygments_lexer": "ipython3",
   "version": "3.11.3"
  }
 },
 "nbformat": 4,
 "nbformat_minor": 2
}
