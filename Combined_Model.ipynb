{
 "cells": [
  {
   "cell_type": "code",
   "execution_count": 10,
   "metadata": {},
   "outputs": [],
   "source": [
    "#last run 02/05/2024 0541\n",
    "import torch\n",
    "import torch.nn as nn\n",
    "import torch.optim as optim\n",
    "from torch.utils.data import DataLoader, TensorDataset, random_split\n",
    "from torchvision import transforms, datasets\n",
    "from torchsummary import summary\n",
    "import numpy as np\n",
    "from tqdm import tqdm\n",
    "import matplotlib.pyplot as plt"
   ]
  },
  {
   "cell_type": "code",
   "execution_count": 11,
   "metadata": {},
   "outputs": [],
   "source": [
    "import os"
   ]
  },
  {
   "cell_type": "code",
   "execution_count": 12,
   "metadata": {},
   "outputs": [],
   "source": [
    "files = os.path.join(\"your file name\")"
   ]
  },
  {
   "cell_type": "code",
   "execution_count": 13,
   "metadata": {},
   "outputs": [],
   "source": [
    "#Defining the transformations to apply on our dataset\n",
    "transformations = transforms.Compose([\n",
    "    transforms.Resize((64,64)),\n",
    "    transforms.ToTensor(),\n",
    "])"
   ]
  },
  {
   "cell_type": "code",
   "execution_count": 14,
   "metadata": {},
   "outputs": [],
   "source": [
    "# Load your dataset\n",
    "dataset = datasets.ImageFolder(root='your file name', transform=transformations)"
   ]
  },
  {
   "cell_type": "code",
   "execution_count": 15,
   "metadata": {},
   "outputs": [],
   "source": [
    "# Define the sizes of your splits\n",
    "train_size = int(0.8 * len(dataset))\n",
    "test_size = len(dataset) - train_size"
   ]
  },
  {
   "cell_type": "code",
   "execution_count": 16,
   "metadata": {},
   "outputs": [],
   "source": [
    "# Randomly split the dataset into train and test\n",
    "train_dataset, test_dataset = random_split(dataset, [train_size, test_size])"
   ]
  },
  {
   "cell_type": "code",
   "execution_count": 17,
   "metadata": {},
   "outputs": [],
   "source": [
    "# Create DataLoaders for your train and test datasets\n",
    "train_loader = DataLoader(train_dataset, batch_size=32, shuffle=True)\n",
    "test_loader = DataLoader(test_dataset, batch_size=32, shuffle=True)"
   ]
  },
  {
   "cell_type": "code",
   "execution_count": 18,
   "metadata": {},
   "outputs": [],
   "source": [
    "import import_ipynb\n",
    "from adamsop_DenseNet import DenseNetModel\n"
   ]
  },
  {
   "cell_type": "code",
   "execution_count": 19,
   "metadata": {},
   "outputs": [],
   "source": [
    "import import_ipynb\n",
    "from adamsop import ThreeHandsArchitecture"
   ]
  },
  {
   "cell_type": "code",
   "execution_count": null,
   "metadata": {},
   "outputs": [],
   "source": [
    "# Instantiate models\n",
    "three_hands_model = ThreeHandsArchitecture()\n",
    "densenet_model = DenseNetModel(num_classes=7)\n",
    "\n",
    "# Load pre-trained state dictionaries\n",
    "three_hands_model.load_state_dict(torch.load('/Users/atishayjain/Downloads/three_hands_model.pth'))\n",
    "densenet_model.load_state_dict(torch.load('/Users/atishayjain/Downloads/Densenet_model.pth'))\n",
    "\n",
    "# Set models to evaluation mode if you are using them for inference\n",
    "three_hands_model.eval()\n",
    "densenet_model.eval()"
   ]
  },
  {
   "cell_type": "code",
   "execution_count": 21,
   "metadata": {},
   "outputs": [],
   "source": [
    "class CombinedModel(nn.Module):\n",
    "    def __init__(self, three_hands, densenet, num_classes=7):\n",
    "        super(CombinedModel, self).__init__()\n",
    "        self.three_hands = three_hands\n",
    "        self.densenet = densenet\n",
    "        self.fc = nn.Linear(num_classes * 2, num_classes)\n",
    "        self.softmax = nn.Softmax(dim=1)\n",
    "\n",
    "    def forward(self, x):\n",
    "        # Assuming both models output probabilities that can be concatenated\n",
    "        output_three_hands = self.three_hands(x)\n",
    "        output_densenet = self.densenet(x)\n",
    "\n",
    "        concatenated_output = torch.cat((output_three_hands, output_densenet), dim=1)\n",
    "        output = self.fc(concatenated_output)\n",
    "        output = self.softmax(output)\n",
    "        return output\n",
    "\n",
    "# Instantiate the combined model with pre-trained models\n",
    "combined_model = CombinedModel(three_hands_model, densenet_model)\n"
   ]
  },
  {
   "cell_type": "code",
   "execution_count": 32,
   "metadata": {},
   "outputs": [],
   "source": [
    "#Defing the hyperparameters\n",
    "num_epochs = 3\n",
    "learning_rate = 0.005"
   ]
  },
  {
   "cell_type": "code",
   "execution_count": 33,
   "metadata": {},
   "outputs": [],
   "source": [
    "# Define loss function and optimizer\n",
    "criterion = nn.CrossEntropyLoss()\n",
    "optimizer = optim.SGD(combined_model.parameters(), lr=learning_rate,weight_decay=0.0001)"
   ]
  },
  {
   "cell_type": "code",
   "execution_count": null,
   "metadata": {},
   "outputs": [],
   "source": [
    "# Training loop\n",
    "loss_values = []\n",
    "for epoch in range(num_epochs):\n",
    "    combined_model.train()\n",
    "    running_loss = 0.0\n",
    "    loop = tqdm(train_loader, leave=True, desc=f\"Epoch {epoch+1}/{num_epochs}\")\n",
    "    iterations = 0\n",
    "    acc_loss = 0\n",
    "    for inputs, labels in loop:\n",
    "        inputs, labels = inputs, labels\n",
    "        optimizer.zero_grad()\n",
    "        outputs = combined_model(inputs)\n",
    "        loss = criterion(outputs, labels)\n",
    "        loss.backward()\n",
    "        optimizer.step()\n",
    "        iterations += 1\n",
    "        acc_loss += loss.item()\n",
    "        loop.set_postfix(loss=loss.item())\n",
    "    loss_value = acc_loss/iterations\n",
    "    loss_values.append(loss_value)\n",
    "    print(f'\\nEpoch [{epoch+1}/{num_epochs}], Loss: {loss_value:.4f}')"
   ]
  },
  {
   "cell_type": "code",
   "execution_count": null,
   "metadata": {},
   "outputs": [],
   "source": [
    "# Testing our model\n",
    "combined_model.eval()\n",
    "correct = 0\n",
    "total = 0\n",
    "\n",
    "with torch.no_grad():\n",
    "    loop = tqdm(train_loader, leave=True, desc=f\"Epoch {epoch+1}/{num_epochs}\")\n",
    "    # for inputs, labels in test_loader:\n",
    "    for inputs, labels in loop:\n",
    "        inputs, labels = inputs, labels\n",
    "        outputs = combined_model(inputs)\n",
    "        _, predicted = torch.max(outputs, 1)\n",
    "        total += labels.size(0)\n",
    "        correct += (predicted == labels).sum().item()\n",
    "        loop.set_postfix()\n",
    "accuracy = correct / total\n",
    "print(f'\\nTrain Accuracy: {accuracy * 100:.2f}%')"
   ]
  },
  {
   "cell_type": "code",
   "execution_count": null,
   "metadata": {},
   "outputs": [],
   "source": [
    "# Testing our model\n",
    "combined_model.eval()\n",
    "correct = 0\n",
    "total = 0\n",
    "\n",
    "with torch.no_grad():\n",
    "    loop = tqdm(test_loader, leave=True, desc=f\"Epoch {epoch+1}/{num_epochs}\")\n",
    "    # for inputs, labels in test_loader:\n",
    "    for inputs, labels in loop:\n",
    "        inputs, labels = inputs, labels\n",
    "        outputs = combined_model(inputs)\n",
    "        _, predicted = torch.max(outputs, 1)\n",
    "        total += labels.size(0)\n",
    "        correct += (predicted == labels).sum().item()\n",
    "        loop.set_postfix()\n",
    "accuracy = correct / total\n",
    "\n",
    "print(f'\\nTest Accuracy: {accuracy * 100:.2f}%')"
   ]
  }
 ],
 "metadata": {
  "kernelspec": {
   "display_name": "Python 3",
   "language": "python",
   "name": "python3"
  },
  "language_info": {
   "codemirror_mode": {
    "name": "ipython",
    "version": 3
   },
   "file_extension": ".py",
   "mimetype": "text/x-python",
   "name": "python",
   "nbconvert_exporter": "python",
   "pygments_lexer": "ipython3",
   "version": "3.11.3"
  },
  "orig_nbformat": 4
 },
 "nbformat": 4,
 "nbformat_minor": 2
}
